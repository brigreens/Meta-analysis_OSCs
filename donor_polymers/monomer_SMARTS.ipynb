{
 "cells": [
  {
   "cell_type": "markdown",
   "metadata": {},
   "source": [
    "# Identify monomers in donor polymers by SMARTS"
   ]
  },
  {
   "cell_type": "code",
   "execution_count": 1,
   "metadata": {},
   "outputs": [],
   "source": [
    "from rdkit import Chem\n",
    "import pandas as pd"
   ]
  },
  {
   "cell_type": "markdown",
   "metadata": {},
   "source": [
    "## Identify common monomers in each donor"
   ]
  },
  {
   "cell_type": "markdown",
   "metadata": {},
   "source": [
    "Import dataset"
   ]
  },
  {
   "cell_type": "code",
   "execution_count": 2,
   "metadata": {},
   "outputs": [],
   "source": [
    "df = pd.read_csv('../OSC_dataset_metaanalysis.csv')"
   ]
  },
  {
   "cell_type": "markdown",
   "metadata": {},
   "source": [
    "SMARTS patterns for common monomers. Monomer A is  benzodithiophene (BDT), Monomer B is benzodithiophenedione (BDD), Monomer C is benzotriazole (BTA), Monomer D is benzothiadiazole, Monomer E is quinoxaline (Qx), Monomer F is thieno[3,4-b]thiophene (TT), Monomer G is dithienobenzothiadiazole (DTBT), Monomer H is an imide-fused benzotriazole (TzBI), Monomer I is thieno[3,4-c]pyrrole-4,6-dione (TPD), Monomer J is Dithienoquinoxaline (DTQx), Monomer K is thiazolo[5,4-d]thiazole, Monomer L is benzo[1,2-b:4,5-b']difuran (BDF)\n",
    "\n"
   ]
  },
  {
   "cell_type": "code",
   "execution_count": 3,
   "metadata": {},
   "outputs": [],
   "source": [
    "smarts_A = \"[#6r5R1]@[#6r5R1]@[#16r5R1]@[#6R2]@[#6r6R1]@[#6R2]@[#6r5R1]@[#6r5R1]@[#16r5R1]@[#6R2]@[#6r6R1]@[#6R2]\"\n",
    "smarts_B = \"[#16r5R1]@[#6r5R1]@[#6R2]@[#6r6R1](=[#8])@[#6R2]@[#6r5R1]@[#16r5R1]@[#6r5R1]@[#6R2]@[#6r6R1](=[#8])@[#6R2]@[#6r5R1]\"\n",
    "smarts_C = \"[#7r5R1]@[#7r5R1]@[#7r5R1]@[#6R2]@[#6r6R1]@[#6r6R1]@[#6r6R1]@[#6r6R1]@[#6R2]\"\n",
    "smarts_D = \"[#7r5R1]@[#16r5R1]@[#7r5R1]@[#6R2]@[#6r6R1]@[#6r6R1]@[#6r6R1]@[#6r6R1]@[#6R2]\"\n",
    "smarts_E = \"[#7r6R1]@[#6r6R1]@[#6r6R1]@[#7r6R1]@[#6R2]@[#6r6R1]@[#6r6R1]@[#6r6R1]@[#6r6R1]@[#6R2]\"\n",
    "smarts_F = \"[#6r5R1]@[#6r5R1]@[#16r5R1]@[#6R2]@[#6r5R1]@[#16r5R1]@[#6r5R1]@[#6R2]\"\n",
    "smarts_G = \"[#6r5R1]@[#6r5R1]@[#16r5R1]@[#6R2]@[#6R2]@[#16r5R1]@[#6r5R1]@[#6r5R1]@[#6R2]@[#6R2]@[#7r5R1]@[#16r5R1]@[#7r5R1]@[#6R2]@[#6R2]\"\n",
    "smarts_H = \"[#7r5R1]@[#6r5R1](=[#8])@[#6R2]@[#6r6R1]@[#6R2]@[#7r5R1]@[#7r5R1]@[#7r5R1]@[#6R2]@[#6r6R1]@[#6R2]@[#6r5R1](=[#8])\"\n",
    "smarts_I = \"[#7r5R1]@[#6r5R1](=[#8])@[#6R2]@[#6r5R1]@[#16r5R1]@[#6r5R1]@[#6R2]@[#6r5R1](=[#8])\"\n",
    "smarts_J = \"[#6r5R1]@[#6r5R1]@[#16r5R1]@[#6R2]@[#6R2]@[#16r5R1]@[#6r5R1]@[#6r5R1]@[#6R2]@[#6R2]@[#7r6R1]@[#6r6R1]@[#6r6R1]@[#7r6R1]@[#6R2]@[#6R2]\"\n",
    "smarts_K = \"[#16r5R1]@[#6r5R1]@[#7r5R1]@[#6R2]@[#16r5R1]@[#6r5R1]@[#7r5R1]@[#6R2]\"\n",
    "smarts_L = \"[#6r5R1]@[#6r5R1]@[#8r5R1]@[#6R2]@[#6r6R1]@[#6R2]@[#6r5R1]@[#6r5R1]@[#8r5R1]@[#6R2]@[#6r6R1]@[#6R2]\"\n",
    "\n",
    "smarts_list = [smarts_A, smarts_B, smarts_C, smarts_D, smarts_E, smarts_F, smarts_G, smarts_H, smarts_I, smarts_J, smarts_K, smarts_L]"
   ]
  },
  {
   "cell_type": "markdown",
   "metadata": {},
   "source": [
    "Count how many times each type of monomer appears"
   ]
  },
  {
   "cell_type": "code",
   "execution_count": 4,
   "metadata": {},
   "outputs": [],
   "source": [
    "def count_monomers(smiles, smarts_list):\n",
    "    count_list = []\n",
    "    for smarts in smarts_list:\n",
    "        count_list.append(len(Chem.MolFromSmiles(smiles).GetSubstructMatches(Chem.MolFromSmarts(smarts))))\n",
    "\n",
    "    return count_list"
   ]
  },
  {
   "cell_type": "code",
   "execution_count": 5,
   "metadata": {},
   "outputs": [],
   "source": [
    "monomer_A_count = []\n",
    "monomer_B_count = []\n",
    "monomer_C_count = []\n",
    "monomer_D_count = []\n",
    "monomer_E_count = []\n",
    "monomer_F_count = []\n",
    "monomer_G_count = []\n",
    "monomer_H_count = []\n",
    "monomer_I_count = []\n",
    "monomer_J_count = []\n",
    "monomer_K_count = []\n",
    "monomer_L_count = []\n",
    "\n",
    "monomer_count_list = [monomer_A_count, monomer_B_count, monomer_C_count, monomer_D_count, monomer_E_count, monomer_F_count, monomer_G_count, monomer_H_count, monomer_I_count, monomer_J_count, monomer_K_count, monomer_L_count]\n",
    "\n",
    "for x in range(len(df)):\n",
    "    mon_smiles = df[\"don_mon_SMILES\"][x]\n",
    "    count_list = count_monomers(mon_smiles, smarts_list)\n",
    "\n",
    "    for i in range(len(count_list)):\n",
    "        monomer_count_list[i].append(count_list[i])"
   ]
  },
  {
   "cell_type": "markdown",
   "metadata": {},
   "source": [
    "Add monomers counts to the dataframe"
   ]
  },
  {
   "cell_type": "code",
   "execution_count": 6,
   "metadata": {},
   "outputs": [],
   "source": [
    "df[\"A_count\"] = monomer_A_count\n",
    "df[\"B_count\"] = monomer_B_count\n",
    "df[\"C_count\"] = monomer_C_count\n",
    "df[\"D_count\"] = monomer_D_count\n",
    "df[\"E_count\"] = monomer_E_count\n",
    "df[\"F_count\"] = monomer_F_count\n",
    "df[\"G_count\"] = monomer_G_count\n",
    "df[\"H_count\"] = monomer_H_count\n",
    "df[\"I_count\"] = monomer_I_count\n",
    "df[\"J_count\"] = monomer_J_count\n",
    "df[\"K_count\"] = monomer_K_count\n",
    "df[\"L_count\"] = monomer_L_count"
   ]
  },
  {
   "cell_type": "markdown",
   "metadata": {},
   "source": [
    "Filter dataframe and make new csv"
   ]
  },
  {
   "cell_type": "code",
   "execution_count": 8,
   "metadata": {},
   "outputs": [],
   "source": [
    "df2 = df.filter(['updated_NFA_ID','reported_acceptor', 'don_ID', 'reported_donor', 'DOI', 'PCE_avg', 'donor_type', 'acc_SMILES_sidechains', 'don_mon_SMILES', 'A_count', 'B_count', 'C_count', 'D_count', 'E_count', 'F_count', 'G_count', 'H_count', 'I_count', 'J_count', 'K_count', 'L_count'], axis=1)\n",
    "df2.to_csv(\"don_monomer_smarts.csv\")"
   ]
  }
 ],
 "metadata": {
  "kernelspec": {
   "display_name": "rdkit",
   "language": "python",
   "name": "python3"
  },
  "language_info": {
   "codemirror_mode": {
    "name": "ipython",
    "version": 3
   },
   "file_extension": ".py",
   "mimetype": "text/x-python",
   "name": "python",
   "nbconvert_exporter": "python",
   "pygments_lexer": "ipython3",
   "version": "3.7.16"
  },
  "orig_nbformat": 4
 },
 "nbformat": 4,
 "nbformat_minor": 2
}
